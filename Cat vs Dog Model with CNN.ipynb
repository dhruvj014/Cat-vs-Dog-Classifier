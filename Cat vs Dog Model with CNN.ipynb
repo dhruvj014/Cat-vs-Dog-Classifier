{
 "cells": [
  {
   "cell_type": "code",
   "execution_count": 1,
   "id": "faa6663f",
   "metadata": {},
   "outputs": [],
   "source": [
    "import tensorflow as tf\n",
    "from tensorflow import keras\n",
    "from keras import Sequential\n",
    "from keras.layers import Dense,Conv2D,MaxPooling2D,Flatten,BatchNormalization,Dropout"
   ]
  },
  {
   "cell_type": "markdown",
   "id": "dd03cf43",
   "metadata": {},
   "source": [
    "Generators split data into batches as handling 20K files isn't easy"
   ]
  },
  {
   "cell_type": "code",
   "execution_count": 2,
   "id": "188a2868",
   "metadata": {},
   "outputs": [
    {
     "name": "stdout",
     "output_type": "stream",
     "text": [
      "Found 20000 files belonging to 2 classes.\n"
     ]
    }
   ],
   "source": [
    "# generators\n",
    "train_ds = keras.utils.image_dataset_from_directory(\n",
    "    directory = 'D:\\Coding\\My projects\\Cat vs Dog Classification\\catdog train',\n",
    "    labels='inferred',\n",
    "    label_mode = 'int',\n",
    "    batch_size=32,\n",
    "    image_size=(256,256)\n",
    ")"
   ]
  },
  {
   "cell_type": "code",
   "execution_count": 3,
   "id": "f322a951",
   "metadata": {},
   "outputs": [
    {
     "name": "stdout",
     "output_type": "stream",
     "text": [
      "Found 5000 files belonging to 2 classes.\n"
     ]
    }
   ],
   "source": [
    "test_ds = keras.utils.image_dataset_from_directory(\n",
    "    directory = 'D:\\Coding\\My projects\\Cat vs Dog Classification\\catdog test',\n",
    "    labels='inferred',\n",
    "    label_mode = 'int',\n",
    "    batch_size=32,\n",
    "    image_size=(256,256)\n",
    ")"
   ]
  },
  {
   "cell_type": "markdown",
   "id": "d9aafb3e",
   "metadata": {},
   "source": [
    "Normalize data to make data between 0 to 1 instead of 0 to 255"
   ]
  },
  {
   "cell_type": "code",
   "execution_count": 4,
   "id": "0ea86c25",
   "metadata": {},
   "outputs": [],
   "source": [
    "def norma(image,label):\n",
    "    image = tf.cast(image/255. ,tf.float32)\n",
    "    return image,label"
   ]
  },
  {
   "cell_type": "code",
   "execution_count": 5,
   "id": "54a83378",
   "metadata": {},
   "outputs": [],
   "source": [
    "train_ds = train_ds.map(norma)"
   ]
  },
  {
   "cell_type": "code",
   "execution_count": 6,
   "id": "c9ce7910",
   "metadata": {},
   "outputs": [],
   "source": [
    "test_ds = test_ds.map(norma)"
   ]
  },
  {
   "cell_type": "code",
   "execution_count": 7,
   "id": "3226ae7e",
   "metadata": {},
   "outputs": [],
   "source": [
    "model = Sequential()\n",
    "\n",
    "model.add(Conv2D(32,kernel_size=(3,3),padding='valid',activation='relu',input_shape=(256,256,3)))\n",
    "model.add(BatchNormalization())\n",
    "model.add(MaxPooling2D(pool_size=(2,2),strides=2,padding='valid'))\n",
    "\n",
    "model.add(Conv2D(64,kernel_size=(3,3),padding='valid',activation='relu'))\n",
    "model.add(BatchNormalization())\n",
    "model.add(MaxPooling2D(pool_size=(2,2),strides=2,padding='valid'))\n",
    "\n",
    "model.add(Conv2D(128,kernel_size=(3,3),padding='valid',activation='relu'))\n",
    "model.add(BatchNormalization())\n",
    "model.add(MaxPooling2D(pool_size=(2,2),strides=2,padding='valid'))\n",
    "\n",
    "model.add(Flatten())\n",
    "\n",
    "model.add(Dense(128,activation='relu'))\n",
    "model.add(Dropout(0.1))\n",
    "model.add(Dense(64,activation='relu'))\n",
    "model.add(Dropout(0.1))\n",
    "model.add(Dense(1,activation='sigmoid'))"
   ]
  },
  {
   "cell_type": "code",
   "execution_count": 8,
   "id": "f9dd9214",
   "metadata": {},
   "outputs": [
    {
     "name": "stdout",
     "output_type": "stream",
     "text": [
      "Model: \"sequential\"\n",
      "_________________________________________________________________\n",
      " Layer (type)                Output Shape              Param #   \n",
      "=================================================================\n",
      " conv2d (Conv2D)             (None, 254, 254, 32)      896       \n",
      "                                                                 \n",
      " batch_normalization (BatchN  (None, 254, 254, 32)     128       \n",
      " ormalization)                                                   \n",
      "                                                                 \n",
      " max_pooling2d (MaxPooling2D  (None, 127, 127, 32)     0         \n",
      " )                                                               \n",
      "                                                                 \n",
      " conv2d_1 (Conv2D)           (None, 125, 125, 64)      18496     \n",
      "                                                                 \n",
      " batch_normalization_1 (Batc  (None, 125, 125, 64)     256       \n",
      " hNormalization)                                                 \n",
      "                                                                 \n",
      " max_pooling2d_1 (MaxPooling  (None, 62, 62, 64)       0         \n",
      " 2D)                                                             \n",
      "                                                                 \n",
      " conv2d_2 (Conv2D)           (None, 60, 60, 128)       73856     \n",
      "                                                                 \n",
      " batch_normalization_2 (Batc  (None, 60, 60, 128)      512       \n",
      " hNormalization)                                                 \n",
      "                                                                 \n",
      " max_pooling2d_2 (MaxPooling  (None, 30, 30, 128)      0         \n",
      " 2D)                                                             \n",
      "                                                                 \n",
      " flatten (Flatten)           (None, 115200)            0         \n",
      "                                                                 \n",
      " dense (Dense)               (None, 128)               14745728  \n",
      "                                                                 \n",
      " dropout (Dropout)           (None, 128)               0         \n",
      "                                                                 \n",
      " dense_1 (Dense)             (None, 64)                8256      \n",
      "                                                                 \n",
      " dropout_1 (Dropout)         (None, 64)                0         \n",
      "                                                                 \n",
      " dense_2 (Dense)             (None, 1)                 65        \n",
      "                                                                 \n",
      "=================================================================\n",
      "Total params: 14,848,193\n",
      "Trainable params: 14,847,745\n",
      "Non-trainable params: 448\n",
      "_________________________________________________________________\n"
     ]
    }
   ],
   "source": [
    "model.summary()"
   ]
  },
  {
   "cell_type": "code",
   "execution_count": 9,
   "id": "0e80a2bb",
   "metadata": {},
   "outputs": [],
   "source": [
    "model.compile(optimizer='adam',loss='binary_crossentropy',metrics=['accuracy'])"
   ]
  },
  {
   "cell_type": "code",
   "execution_count": 11,
   "id": "793da5ab",
   "metadata": {},
   "outputs": [
    {
     "name": "stdout",
     "output_type": "stream",
     "text": [
      "Epoch 1/10\n",
      "625/625 [==============================] - 1605s 3s/step - loss: 1.4253 - accuracy: 0.5802 - val_loss: 0.6350 - val_accuracy: 0.6530\n",
      "Epoch 2/10\n",
      "625/625 [==============================] - 1571s 3s/step - loss: 0.5980 - accuracy: 0.6808 - val_loss: 0.6809 - val_accuracy: 0.6528\n",
      "Epoch 3/10\n",
      "625/625 [==============================] - 1576s 3s/step - loss: 0.5105 - accuracy: 0.7489 - val_loss: 0.5108 - val_accuracy: 0.7364\n",
      "Epoch 4/10\n",
      "625/625 [==============================] - 1572s 3s/step - loss: 0.4434 - accuracy: 0.7918 - val_loss: 0.4520 - val_accuracy: 0.7884\n",
      "Epoch 5/10\n",
      "625/625 [==============================] - 1572s 3s/step - loss: 0.3960 - accuracy: 0.8238 - val_loss: 0.4752 - val_accuracy: 0.7654\n",
      "Epoch 6/10\n",
      "625/625 [==============================] - 1735s 3s/step - loss: 0.3365 - accuracy: 0.8488 - val_loss: 0.4788 - val_accuracy: 0.7950\n",
      "Epoch 7/10\n",
      "625/625 [==============================] - 1810s 3s/step - loss: 0.2664 - accuracy: 0.8859 - val_loss: 1.0451 - val_accuracy: 0.6432\n",
      "Epoch 8/10\n",
      "625/625 [==============================] - 2145s 3s/step - loss: 0.2065 - accuracy: 0.9172 - val_loss: 0.4710 - val_accuracy: 0.8230\n",
      "Epoch 9/10\n",
      "625/625 [==============================] - 2270s 4s/step - loss: 0.1507 - accuracy: 0.9396 - val_loss: 0.6102 - val_accuracy: 0.8324\n",
      "Epoch 10/10\n",
      "625/625 [==============================] - 1867s 3s/step - loss: 0.1328 - accuracy: 0.9516 - val_loss: 0.5753 - val_accuracy: 0.7964\n"
     ]
    }
   ],
   "source": [
    "history = model.fit(train_ds,epochs=10,validation_data=test_ds)"
   ]
  },
  {
   "cell_type": "code",
   "execution_count": 12,
   "id": "e370f72e",
   "metadata": {},
   "outputs": [],
   "source": [
    "import pickle\n",
    "#wb - write binary mode\n",
    "pickle.dump(model,open('pipe.pkl','wb'))"
   ]
  }
 ],
 "metadata": {
  "kernelspec": {
   "display_name": "Python 3 (ipykernel)",
   "language": "python",
   "name": "python3"
  },
  "language_info": {
   "codemirror_mode": {
    "name": "ipython",
    "version": 3
   },
   "file_extension": ".py",
   "mimetype": "text/x-python",
   "name": "python",
   "nbconvert_exporter": "python",
   "pygments_lexer": "ipython3",
   "version": "3.10.7"
  }
 },
 "nbformat": 4,
 "nbformat_minor": 5
}
